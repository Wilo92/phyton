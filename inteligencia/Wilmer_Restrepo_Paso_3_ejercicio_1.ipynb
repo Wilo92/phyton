{
  "nbformat": 4,
  "nbformat_minor": 0,
  "metadata": {
    "colab": {
      "provenance": []
    },
    "kernelspec": {
      "name": "python3",
      "display_name": "Python 3"
    },
    "language_info": {
      "name": "python"
    }
  },
  "cells": [
    {
      "cell_type": "markdown",
      "source": [
        "Metodos numericos"
      ],
      "metadata": {
        "id": "YXBG04N7Zg2k"
      }
    },
    {
      "cell_type": "markdown",
      "source": [
        "Tarea 3 Diferenciacion numerica"
      ],
      "metadata": {
        "id": "wm-ih-BQZg0T"
      }
    },
    {
      "cell_type": "markdown",
      "source": [
        "WILMER FIDEL RESTREPO ORREGO"
      ],
      "metadata": {
        "id": "_aVMq4UbZgx5"
      }
    },
    {
      "cell_type": "markdown",
      "source": [
        "100401A_1391"
      ],
      "metadata": {
        "id": "4vEUn-_HZgvS"
      }
    },
    {
      "cell_type": "markdown",
      "source": [
        "Presentado a: JUAN SEBASTIAN RODRIGUEZ"
      ],
      "metadata": {
        "id": "Th8_smmDZgs3"
      }
    },
    {
      "cell_type": "markdown",
      "source": [
        "Universidad Nacional Abierta y a Distancia"
      ],
      "metadata": {
        "id": "IsgGEgwAZgqT"
      }
    },
    {
      "cell_type": "markdown",
      "source": [
        "![image.png](data:image/png;base64,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)"
      ],
      "metadata": {
        "id": "HpLRnjKnMlZw"
      }
    },
    {
      "cell_type": "markdown",
      "source": [
        "**DIFERENCIAS FINITAS PRIMERA DERIVADA**\n"
      ],
      "metadata": {
        "id": "21iIL7XifRHh"
      }
    },
    {
      "cell_type": "markdown",
      "source": [
        "PASO 1"
      ],
      "metadata": {
        "id": "E4aMMQeIfVS2"
      }
    },
    {
      "cell_type": "markdown",
      "source": [
        "Importamos Numpy y definimos la funcion"
      ],
      "metadata": {
        "id": "fwsL5SYVfWkf"
      }
    },
    {
      "cell_type": "code",
      "source": [
        "import numpy as np\n",
        "\n",
        "def f(x):\n",
        "  return 1 / np.sin(x)"
      ],
      "metadata": {
        "id": "XeKKRRYBfbYm"
      },
      "execution_count": null,
      "outputs": []
    },
    {
      "cell_type": "markdown",
      "source": [
        "PASO 2"
      ],
      "metadata": {
        "id": "IaO1pVfpfxG2"
      }
    },
    {
      "cell_type": "markdown",
      "source": [
        "Definicion de esquema de derivadas."
      ],
      "metadata": {
        "id": "RiqaWLGNfzCm"
      }
    },
    {
      "cell_type": "code",
      "source": [
        "#esquema de primera derivada Forward\n",
        "#f prima forward\n",
        "\n",
        "def fpf(x0,h):\n",
        "  return (f(x0 + h)- f(x0)) / h"
      ],
      "metadata": {
        "id": "JfyvXmEvf1yI"
      },
      "execution_count": null,
      "outputs": []
    },
    {
      "cell_type": "code",
      "source": [
        "#esquema df primera derivada central \n",
        "\n",
        "def fpc(x0,h):\n",
        "  return (f(x0 + h) - f(x0 - h)) / (2 * h)"
      ],
      "metadata": {
        "id": "aQQnO-TxgtF2"
      },
      "execution_count": null,
      "outputs": []
    },
    {
      "cell_type": "code",
      "source": [
        "#esquema df primera derivada Backward\n",
        "\n",
        "def fpb(x0,h):\n",
        "  return (f(x0) - f(x0 - h)) / h"
      ],
      "metadata": {
        "id": "-ck7upaBhC03"
      },
      "execution_count": null,
      "outputs": []
    },
    {
      "cell_type": "markdown",
      "source": [
        "PASO 3"
      ],
      "metadata": {
        "id": "XxOWSUASiUOm"
      }
    },
    {
      "cell_type": "markdown",
      "source": [
        "Ingreso de datos y ejecucion de derivadas"
      ],
      "metadata": {
        "id": "rZ_r6QooiVMm"
      }
    },
    {
      "cell_type": "code",
      "source": [
        "x = (3.5 * np.pi) / 180\n",
        "h = 0.5\n",
        "print(\"el valor de x en radianes es: \",x)\n"
      ],
      "metadata": {
        "colab": {
          "base_uri": "https://localhost:8080/"
        },
        "id": "BQ6poavHicv3",
        "outputId": "cd220244-61e3-4bd0-fbca-9da720a677d4"
      },
      "execution_count": null,
      "outputs": [
        {
          "output_type": "stream",
          "name": "stdout",
          "text": [
            "el valor de x en radianes es:  0.061086523819801536\n"
          ]
        }
      ]
    },
    {
      "cell_type": "code",
      "source": [
        "fpf(x,h) #esta es la primera derivada de la funcion csc(x) hacia adelante."
      ],
      "metadata": {
        "colab": {
          "base_uri": "https://localhost:8080/"
        },
        "id": "0Cxcjlt3iyxG",
        "outputId": "45958dfa-3c48-446a-ffc6-eb535e55d148"
      },
      "execution_count": null,
      "outputs": [
        {
          "output_type": "execute_result",
          "data": {
            "text/plain": [
              "-29.002170044311107"
            ]
          },
          "metadata": {},
          "execution_count": 7
        }
      ]
    },
    {
      "cell_type": "code",
      "source": [
        "fpc(x,h) #esta es la primera derivada de la funcion csc (x) central"
      ],
      "metadata": {
        "colab": {
          "base_uri": "https://localhost:8080/"
        },
        "id": "8QY6bfrKi-G2",
        "outputId": "b97b38d5-72fb-40fe-d8a2-d9d73601e967"
      },
      "execution_count": null,
      "outputs": [
        {
          "output_type": "execute_result",
          "data": {
            "text/plain": [
              "4.232507022974531"
            ]
          },
          "metadata": {},
          "execution_count": 8
        }
      ]
    },
    {
      "cell_type": "code",
      "source": [
        "fpb(x,h) #esta es la primera derivada de la funcion csc (x) hacia atras."
      ],
      "metadata": {
        "colab": {
          "base_uri": "https://localhost:8080/"
        },
        "id": "wpqWWlULjK6g",
        "outputId": "6280335e-6aaa-40b8-f992-664128ee3249"
      },
      "execution_count": null,
      "outputs": [
        {
          "output_type": "execute_result",
          "data": {
            "text/plain": [
              "37.46718409026017"
            ]
          },
          "metadata": {},
          "execution_count": 9
        }
      ]
    },
    {
      "cell_type": "markdown",
      "source": [
        "PASO 4"
      ],
      "metadata": {
        "id": "vvV9G_nAjX7e"
      }
    },
    {
      "cell_type": "markdown",
      "source": [
        "Tabla de primera derivada hacia adelante"
      ],
      "metadata": {
        "id": "d79Yb57JjaF5"
      }
    },
    {
      "cell_type": "code",
      "source": [
        "# definimos la derivada y guardamos el valor de la variable DR.\n",
        "\n",
        "DR = -(1 / np.sin(x)) * (1 / np.tan(x))\n"
      ],
      "metadata": {
        "id": "8a3HGiq9kfU9"
      },
      "execution_count": null,
      "outputs": []
    },
    {
      "cell_type": "code",
      "source": [
        "#error relativo porcentual\n",
        "def ErrorRP(DR,x,h):\n",
        "  return (abs(DR - fpf(x,h))/DR) * 100"
      ],
      "metadata": {
        "id": "FGVflJ9GkzQi"
      },
      "execution_count": null,
      "outputs": []
    },
    {
      "cell_type": "code",
      "source": [
        "from tabulate import tabulate\n",
        "DFinitas = [[\"0.5\", fpf(x,0.5), ErrorRP(DR,x,0.5)],[\"0.5\", fpf(x,0.05), ErrorRP(DR,x,0.05)],[\"0.01\", fpf(x,0.01), ErrorRP(DR,x,0.01)]]\n",
        "print(tabulate(DFinitas, headers = [\"tamaño h\", \"Derivada aprox\", \"Error(%)\"], tablefmt = \"francy_grid\"))"
      ],
      "metadata": {
        "colab": {
          "base_uri": "https://localhost:8080/"
        },
        "id": "xbw-OdO_lLP3",
        "outputId": "3039bc21-18d9-4537-8650-9625cc0a8f80"
      },
      "execution_count": null,
      "outputs": [
        {
          "output_type": "stream",
          "name": "stdout",
          "text": [
            "  tamaño h    Derivada aprox    Error(%)\n",
            "----------  ----------------  ----------\n",
            "      0.5           -29.0022    -89.1709\n",
            "      0.5          -147.198     -45.0381\n",
            "      0.01         -230.119     -14.0761\n"
          ]
        }
      ]
    },
    {
      "cell_type": "markdown",
      "source": [
        "Tabla primera derivada hacia atras "
      ],
      "metadata": {
        "id": "LenCY7IEn-0L"
      }
    },
    {
      "cell_type": "code",
      "source": [
        " #error relativo porcentual\n",
        "def ErrorRP(DR,x,h):\n",
        "  return (abs(DR - fpb(x,h))/DR) * 100"
      ],
      "metadata": {
        "id": "jkN4ypwDoFAl"
      },
      "execution_count": null,
      "outputs": []
    },
    {
      "cell_type": "code",
      "source": [
        "DFinitas = [[\"0.5\", fpb(x,0.5), ErrorRP(DR,x,0.5)],[\"0.5\", fpb(x,0.05), ErrorRP(DR,x,0.05)],[\"0.01\", fpb(x,0.01), ErrorRP(DR,x,0.01)]]\n",
        "print(tabulate(DFinitas, headers = [\"tamaño h\", \"Derivada aprox\", \"Error(%)\"], tablefmt = \"francy_grid\"))"
      ],
      "metadata": {
        "colab": {
          "base_uri": "https://localhost:8080/"
        },
        "outputId": "a2887224-5036-4a08-875f-d6a2bbb89559",
        "id": "UzqXI9XQoPKX"
      },
      "execution_count": null,
      "outputs": [
        {
          "output_type": "stream",
          "name": "stdout",
          "text": [
            "  tamaño h    Derivada aprox    Error(%)\n",
            "----------  ----------------  ----------\n",
            "      0.5            37.4672   -113.99\n",
            "      0.5         -1476.42     -451.279\n",
            "      0.01         -320.274     -19.5868\n"
          ]
        }
      ]
    },
    {
      "cell_type": "markdown",
      "source": [
        "Tabla para primera derivada centrada"
      ],
      "metadata": {
        "id": "wZK4HrRCo5p6"
      }
    },
    {
      "cell_type": "code",
      "source": [
        " #error relativo porcentual\n",
        "def ErrorRP(DR,x,h):\n",
        "  return (abs(DR - fpc(x,h))/DR) * 100"
      ],
      "metadata": {
        "id": "F4MkoZI4pIJD"
      },
      "execution_count": null,
      "outputs": []
    },
    {
      "cell_type": "code",
      "source": [
        "DFinitas = [[\"0.5\", fpc(x,0.5), ErrorRP(DR,x,0.5)],[\"0.5\", fpc(x,0.05), ErrorRP(DR,x,0.05)],[\"0.01\", fpc(x,0.01), ErrorRP(DR,x,0.01)]]\n",
        "print(tabulate(DFinitas, headers = [\"tamaño h\", \"Derivada aprox\", \"Error(%)\"], tablefmt = \"francy_grid\"))"
      ],
      "metadata": {
        "colab": {
          "base_uri": "https://localhost:8080/"
        },
        "outputId": "f2a488a0-b3d3-42a6-f692-2f6aadba471d",
        "id": "iWqhEvr3pNbC"
      },
      "execution_count": null,
      "outputs": [
        {
          "output_type": "stream",
          "name": "stdout",
          "text": [
            "  tamaño h    Derivada aprox    Error(%)\n",
            "----------  ----------------  ----------\n",
            "      0.5            4.23251  -101.58\n",
            "      0.5         -811.809    -203.12\n",
            "      0.01        -275.197      -2.75535\n"
          ]
        }
      ]
    },
    {
      "cell_type": "markdown",
      "source": [
        "**DIFERENCIAS FINITAS SEGUNDA DERIVADA.**"
      ],
      "metadata": {
        "id": "lbPfGimcThA8"
      }
    },
    {
      "cell_type": "markdown",
      "source": [
        "Se definen los esquemas para la segunda derivada."
      ],
      "metadata": {
        "id": "fRHdjE79Tv3W"
      }
    },
    {
      "cell_type": "code",
      "source": [
        "#esquema de segunda derivada Forward\n",
        "\n",
        "def fsf(x0,h):\n",
        "  return (f(x0) - 2 * f(x0+h) + f(x0+2*h)) / h ** 2"
      ],
      "metadata": {
        "id": "jdS5jbc7UWCz"
      },
      "execution_count": null,
      "outputs": []
    },
    {
      "cell_type": "code",
      "source": [
        "#esquema df segunda derivada central \n",
        "\n",
        "def fsc(x0,h):\n",
        "  return (f(x0 - h) - 2 * f(x0) + f(x0 + h)) / h ** 2"
      ],
      "metadata": {
        "id": "4GvQJxvTUZF6"
      },
      "execution_count": null,
      "outputs": []
    },
    {
      "cell_type": "code",
      "source": [
        "#esquema df segunda derivada Backward\n",
        "\n",
        "def fsb(x0,h):\n",
        "  return (f(x0 - 2 * h) - 2 * f(x0-h) + f(x0)) / h ** 2"
      ],
      "metadata": {
        "id": "R6_ObsExUbyC"
      },
      "execution_count": null,
      "outputs": []
    },
    {
      "cell_type": "markdown",
      "source": [
        "Tabla segunda derivada hacia adelante."
      ],
      "metadata": {
        "id": "-CK4YyqnWD7D"
      }
    },
    {
      "cell_type": "markdown",
      "source": [
        "Definimos la segunda derivada real"
      ],
      "metadata": {
        "id": "EeKxBaBzWLrY"
      }
    },
    {
      "cell_type": "code",
      "source": [
        "SDR = (1/np.sin(x)) * (1/ np.tan(x) ** 2 + 1/np.sin(x) ** 2 )"
      ],
      "metadata": {
        "id": "4CcJzGhjWODg"
      },
      "execution_count": null,
      "outputs": []
    },
    {
      "cell_type": "code",
      "source": [
        "def ErrorRP(SDR,x,h):\n",
        "  return (abs(SDR - fsf(x,h))/SDR)*100"
      ],
      "metadata": {
        "id": "crBmvT6lWf7U"
      },
      "execution_count": null,
      "outputs": []
    },
    {
      "cell_type": "code",
      "source": [
        "DFinitas = [[\"0.5\", fpf(x,0.5), ErrorRP(SDR,x,0.5)],[\"0.05\", fsf(x,0.05), ErrorRP(SDR,x,0.05)],[\"0.01\", fsf(x,0.01), ErrorRP(SDR,x,0.01)]]\n",
        "print(tabulate(DFinitas, headers = [\"tamaño h\", \"Derivada aprox\", \"Error(%)\"], tablefmt = \"francy_grid\"))"
      ],
      "metadata": {
        "colab": {
          "base_uri": "https://localhost:8080/"
        },
        "id": "x0LFDBSlW2by",
        "outputId": "e15de3f5-a746-48a1-8124-cd826bb819ce"
      },
      "execution_count": null,
      "outputs": [
        {
          "output_type": "stream",
          "name": "stdout",
          "text": [
            "  tamaño h    Derivada aprox    Error(%)\n",
            "----------  ----------------  ----------\n",
            "      0.5           -29.0022     99.3724\n",
            "      0.05         1829.65       79.1468\n",
            "      0.01         5680.01       35.2626\n"
          ]
        }
      ]
    },
    {
      "cell_type": "markdown",
      "source": [
        "Segunda derivada hacia atras"
      ],
      "metadata": {
        "id": "7hUpHa3WXnIb"
      }
    },
    {
      "cell_type": "code",
      "source": [
        "def ErrorRP(SDR,x,h):\n",
        "  return (abs(SDR - fsb(x,h))/SDR)*100"
      ],
      "metadata": {
        "id": "BAYXIJrxXmXD"
      },
      "execution_count": null,
      "outputs": []
    },
    {
      "cell_type": "code",
      "source": [
        "DFinitas = [[\"0.5\", fsb(x,0.5), ErrorRP(SDR,x,0.5)],[\"0.05\", fsb(x,0.05), ErrorRP(SDR,x,0.05)],[\"0.01\", fsb(x,0.01), ErrorRP(SDR,x,0.01)]]\n",
        "print(tabulate(DFinitas, headers = [\"tamaño h\", \"Derivada aprox\", \"Error(%)\"], tablefmt = \"francy_grid\"))"
      ],
      "metadata": {
        "colab": {
          "base_uri": "https://localhost:8080/"
        },
        "id": "ywQMPbUJX0-i",
        "outputId": "bc58d2a0-01a0-4ef6-c8a4-3e81a5f2d55b"
      },
      "execution_count": null,
      "outputs": [
        {
          "output_type": "stream",
          "name": "stdout",
          "text": [
            "  tamaño h    Derivada aprox    Error(%)\n",
            "----------  ----------------  ----------\n",
            "      0.5              79.39     99.0952\n",
            "      0.05         -75890.8     964.958\n",
            "      0.01          15598.4      77.7808\n"
          ]
        }
      ]
    },
    {
      "cell_type": "markdown",
      "source": [
        "segunda derivada hacia el centro."
      ],
      "metadata": {
        "id": "bBklCeJdYs3C"
      }
    },
    {
      "cell_type": "code",
      "source": [
        "def ErrorRP(SDR,x,h):\n",
        "  return (abs(SDR - fsc(x,h))/SDR)*100"
      ],
      "metadata": {
        "id": "H8VngitFY-bM"
      },
      "execution_count": null,
      "outputs": []
    },
    {
      "cell_type": "code",
      "source": [
        "DFinitas = [[\"0.5\", fsc(x,0.5), ErrorRP(SDR,x,0.5)],[\"0.05\", fsc(x,0.05), ErrorRP(SDR,x,0.05)],[\"0.01\", fsc(x,0.01), ErrorRP(SDR,x,0.01)]]\n",
        "print(tabulate(DFinitas, headers = [\"tamaño h\", \"Derivada aprox\", \"Error(%)\"], tablefmt = \"francy_grid\"))"
      ],
      "metadata": {
        "colab": {
          "base_uri": "https://localhost:8080/"
        },
        "id": "4p8dhN8VZAEi",
        "outputId": "9b263fc7-6f04-477d-b11d-638ebdf75d3b"
      },
      "execution_count": null,
      "outputs": [
        {
          "output_type": "stream",
          "name": "stdout",
          "text": [
            "  tamaño h    Derivada aprox    Error(%)\n",
            "----------  ----------------  ----------\n",
            "      0.5           -132.939     99.0952\n",
            "      0.05         26584.5      964.958\n",
            "      0.01          9015.53      77.7808\n"
          ]
        }
      ]
    },
    {
      "cell_type": "markdown",
      "source": [
        "CONCLUSIONES"
      ],
      "metadata": {
        "id": "bV2HXrnNZ3_L"
      }
    },
    {
      "cell_type": "markdown",
      "source": [
        "Se estable el codigo necesario para realizar el calculo de las diferencias finitas de  primera y segunda derivada, para ello se importa la libreria numpy y se expresa la derivada de la cosecante, ademas con base en las formulas de la derivada hacia adelante, central y hacia atras se expresa el metodo numerico.\n",
        "Los puntos forward se calculan de acuerdo con el diferencial de tipos de interés de las dos divisas en las que se realiza la transacción, y el tiempo transcurrido hasta la liquidación total o hasta cada una de las liquidaciones parciales, en caso de un seguro de cambio flexible.\n",
        "\n",
        "con base a un valor radian de 0.061086523819801536 se obtienen los siguientes resultados fpf -29.002170044311107  fpc 4.232507022974531 fpb 37.46718409026017.\n",
        " "
      ],
      "metadata": {
        "id": "uuBYng7o-x1r"
      }
    }
  ]
}