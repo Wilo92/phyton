{
 "cells": [
  {
   "cell_type": "markdown",
   "metadata": {},
   "source": [
    "# Prototipo de Sistema Inteligente - Enfermedad Renal Crónica\n",
    "\n",
    "<p>A continuación se presenta el prototipo para el sistema inteligente que predice la probabilidad de padecer enfermedad renal crónica según las caracteristicas de los pacientes.</p>\n",
    "<br/>\n",
    "<details>\n",
    "  <summary>Tabla de contenido</summary>\n",
    "  <ul>\n",
    "    <li>\n",
    "      <a href=\"#Código-fuente\">Código fuente</a>\n",
    "      <ul>\n",
    "        <li><a href=\"#Importar-librerias\">Importar librerias</a></li>\n",
    "        <li><a href=\"#Preparar-datos\">Preparar datos</a></li>\n",
    "        <li><a href=\"#Dividir-datos\">Dividir datos</a></li>\n",
    "        <li><a href=\"#Entrenar-modelo\">Entrenar modelo</a></li>\n",
    "        <li><a href=\"#Evaluar-modelo\">Evaluar modelo</a></li>\n",
    "        <li><a href=\"#Predecir\">Predecir</a></li>  \n",
    "      </ul>\n",
    "    </li>\n",
    "    <li><a href=\"#Autor\">Autor</a></li>\n",
    "    <li><a href=\"#Referencias\">Referencias</a></li>\n",
    "  </ul>\n",
    "</details>\n",
    "\n"
   ]
  },
  {
   "cell_type": "markdown",
   "metadata": {},
   "source": [
    "## Código fuente\n",
    "### Importar librerias"
   ]
  },
  {
   "cell_type": "markdown",
   "metadata": {},
   "source": [
    "Para procesamiento de datos\n",
    "\n",
    "se importan las librerias pandas, sklearn y la coleccion de funciones de matplotlib."
   ]
  },
  {
   "cell_type": "code",
   "execution_count": 1,
   "metadata": {},
   "outputs": [],
   "source": [
    "import pandas as pd\n",
    "from IPython.display import display, HTML\n",
    "import matplotlib.pyplot as plt\n",
    "from sklearn.preprocessing import LabelEncoder\n",
    "from sklearn.model_selection import train_test_split"
   ]
  },
  {
   "cell_type": "markdown",
   "metadata": {},
   "source": [
    "Modelo\n",
    "\n",
    "RandomForestClassifier es un modelo clasificador de bosque aleatorio. Un bosque aleatorio es un metaestimador que se ajusta a una serie de clasificadores de árboles de decisión en varias submuestras del conjunto de datos y utiliza el promedio para mejorar la precisión predictiva y controlar el sobreajuste."
   ]
  },
  {
   "cell_type": "code",
   "execution_count": 2,
   "metadata": {},
   "outputs": [],
   "source": [
    "from sklearn.ensemble import RandomForestClassifier"
   ]
  },
  {
   "cell_type": "markdown",
   "metadata": {},
   "source": [
    "Para evaluación del modelo\n",
    "\n",
    "Se verifican diferentes errores en las matrices de confusion y error medio absoluto "
   ]
  },
  {
   "cell_type": "code",
   "execution_count": 3,
   "metadata": {},
   "outputs": [],
   "source": [
    "from sklearn.metrics import confusion_matrix, ConfusionMatrixDisplay, mean_absolute_error"
   ]
  },
  {
   "cell_type": "markdown",
   "metadata": {},
   "source": [
    "### Importar datos"
   ]
  },
  {
   "cell_type": "markdown",
   "metadata": {},
   "source": [
    "Se agrega la colección de datos tabulados - dataset y se especifica el archivo CSV que queremos leer."
   ]
  },
  {
   "cell_type": "code",
   "execution_count": 4,
   "metadata": {},
   "outputs": [],
   "source": [
    "dataset = pd.read_csv('./input.csv')\n",
    "datos = pd.DataFrame(dataset) # DataFrame alinea los datos de forma tabular en filas y columnas."
   ]
  },
  {
   "cell_type": "markdown",
   "metadata": {},
   "source": [
    "Se muestran 5 registros aleatorios de los datos cargados"
   ]
  },
  {
   "cell_type": "code",
   "execution_count": 5,
   "metadata": {},
   "outputs": [
    {
     "data": {
      "text/html": [
       "<div>\n",
       "<style scoped>\n",
       "    .dataframe tbody tr th:only-of-type {\n",
       "        vertical-align: middle;\n",
       "    }\n",
       "\n",
       "    .dataframe tbody tr th {\n",
       "        vertical-align: top;\n",
       "    }\n",
       "\n",
       "    .dataframe thead th {\n",
       "        text-align: right;\n",
       "    }\n",
       "</style>\n",
       "<table border=\"1\" class=\"dataframe\">\n",
       "  <thead>\n",
       "    <tr style=\"text-align: right;\">\n",
       "      <th></th>\n",
       "      <th>id</th>\n",
       "      <th>age</th>\n",
       "      <th>bp</th>\n",
       "      <th>sg</th>\n",
       "      <th>al</th>\n",
       "      <th>su</th>\n",
       "      <th>rbc</th>\n",
       "      <th>pc</th>\n",
       "      <th>pcc</th>\n",
       "      <th>ba</th>\n",
       "      <th>...</th>\n",
       "      <th>pcv</th>\n",
       "      <th>wc</th>\n",
       "      <th>rc</th>\n",
       "      <th>htn</th>\n",
       "      <th>dm</th>\n",
       "      <th>cad</th>\n",
       "      <th>appet</th>\n",
       "      <th>pe</th>\n",
       "      <th>ane</th>\n",
       "      <th>classification</th>\n",
       "    </tr>\n",
       "  </thead>\n",
       "  <tbody>\n",
       "    <tr>\n",
       "      <th>187</th>\n",
       "      <td>187</td>\n",
       "      <td>3.0</td>\n",
       "      <td>NaN</td>\n",
       "      <td>1.010</td>\n",
       "      <td>2.0</td>\n",
       "      <td>0.0</td>\n",
       "      <td>normal</td>\n",
       "      <td>normal</td>\n",
       "      <td>notpresent</td>\n",
       "      <td>notpresent</td>\n",
       "      <td>...</td>\n",
       "      <td>34</td>\n",
       "      <td>12300</td>\n",
       "      <td>NaN</td>\n",
       "      <td>no</td>\n",
       "      <td>no</td>\n",
       "      <td>no</td>\n",
       "      <td>good</td>\n",
       "      <td>no</td>\n",
       "      <td>no</td>\n",
       "      <td>ckd</td>\n",
       "    </tr>\n",
       "    <tr>\n",
       "      <th>181</th>\n",
       "      <td>181</td>\n",
       "      <td>45.0</td>\n",
       "      <td>70.0</td>\n",
       "      <td>1.025</td>\n",
       "      <td>2.0</td>\n",
       "      <td>0.0</td>\n",
       "      <td>normal</td>\n",
       "      <td>abnormal</td>\n",
       "      <td>present</td>\n",
       "      <td>notpresent</td>\n",
       "      <td>...</td>\n",
       "      <td>30</td>\n",
       "      <td>19100</td>\n",
       "      <td>3.7</td>\n",
       "      <td>no</td>\n",
       "      <td>no</td>\n",
       "      <td>no</td>\n",
       "      <td>good</td>\n",
       "      <td>no</td>\n",
       "      <td>no</td>\n",
       "      <td>ckd</td>\n",
       "    </tr>\n",
       "    <tr>\n",
       "      <th>86</th>\n",
       "      <td>86</td>\n",
       "      <td>56.0</td>\n",
       "      <td>80.0</td>\n",
       "      <td>NaN</td>\n",
       "      <td>NaN</td>\n",
       "      <td>NaN</td>\n",
       "      <td>NaN</td>\n",
       "      <td>NaN</td>\n",
       "      <td>notpresent</td>\n",
       "      <td>notpresent</td>\n",
       "      <td>...</td>\n",
       "      <td>NaN</td>\n",
       "      <td>NaN</td>\n",
       "      <td>NaN</td>\n",
       "      <td>no</td>\n",
       "      <td>yes</td>\n",
       "      <td>no</td>\n",
       "      <td>good</td>\n",
       "      <td>no</td>\n",
       "      <td>no</td>\n",
       "      <td>ckd</td>\n",
       "    </tr>\n",
       "    <tr>\n",
       "      <th>116</th>\n",
       "      <td>116</td>\n",
       "      <td>NaN</td>\n",
       "      <td>70.0</td>\n",
       "      <td>1.015</td>\n",
       "      <td>4.0</td>\n",
       "      <td>0.0</td>\n",
       "      <td>abnormal</td>\n",
       "      <td>normal</td>\n",
       "      <td>notpresent</td>\n",
       "      <td>notpresent</td>\n",
       "      <td>...</td>\n",
       "      <td>NaN</td>\n",
       "      <td>NaN</td>\n",
       "      <td>NaN</td>\n",
       "      <td>no</td>\n",
       "      <td>no</td>\n",
       "      <td>no</td>\n",
       "      <td>good</td>\n",
       "      <td>yes</td>\n",
       "      <td>no</td>\n",
       "      <td>ckd</td>\n",
       "    </tr>\n",
       "    <tr>\n",
       "      <th>79</th>\n",
       "      <td>79</td>\n",
       "      <td>56.0</td>\n",
       "      <td>80.0</td>\n",
       "      <td>1.010</td>\n",
       "      <td>1.0</td>\n",
       "      <td>0.0</td>\n",
       "      <td>NaN</td>\n",
       "      <td>normal</td>\n",
       "      <td>notpresent</td>\n",
       "      <td>notpresent</td>\n",
       "      <td>...</td>\n",
       "      <td>40</td>\n",
       "      <td>11800</td>\n",
       "      <td>5.0</td>\n",
       "      <td>yes</td>\n",
       "      <td>yes</td>\n",
       "      <td>no</td>\n",
       "      <td>poor</td>\n",
       "      <td>yes</td>\n",
       "      <td>no</td>\n",
       "      <td>ckd</td>\n",
       "    </tr>\n",
       "  </tbody>\n",
       "</table>\n",
       "<p>5 rows × 26 columns</p>\n",
       "</div>"
      ],
      "text/plain": [
       "      id   age    bp     sg   al   su       rbc        pc         pcc  \\\n",
       "187  187   3.0   NaN  1.010  2.0  0.0    normal    normal  notpresent   \n",
       "181  181  45.0  70.0  1.025  2.0  0.0    normal  abnormal     present   \n",
       "86    86  56.0  80.0    NaN  NaN  NaN       NaN       NaN  notpresent   \n",
       "116  116   NaN  70.0  1.015  4.0  0.0  abnormal    normal  notpresent   \n",
       "79    79  56.0  80.0  1.010  1.0  0.0       NaN    normal  notpresent   \n",
       "\n",
       "             ba  ...  pcv     wc   rc  htn   dm  cad appet   pe ane  \\\n",
       "187  notpresent  ...   34  12300  NaN   no   no   no  good   no  no   \n",
       "181  notpresent  ...   30  19100  3.7   no   no   no  good   no  no   \n",
       "86   notpresent  ...  NaN    NaN  NaN   no  yes   no  good   no  no   \n",
       "116  notpresent  ...  NaN    NaN  NaN   no   no   no  good  yes  no   \n",
       "79   notpresent  ...   40  11800  5.0  yes  yes   no  poor  yes  no   \n",
       "\n",
       "    classification  \n",
       "187            ckd  \n",
       "181            ckd  \n",
       "86             ckd  \n",
       "116            ckd  \n",
       "79             ckd  \n",
       "\n",
       "[5 rows x 26 columns]"
      ]
     },
     "execution_count": 5,
     "metadata": {},
     "output_type": "execute_result"
    }
   ],
   "source": [
    "datos.sample(5)"
   ]
  },
  {
   "cell_type": "markdown",
   "metadata": {},
   "source": [
    "### Preparar datos"
   ]
  },
  {
   "cell_type": "markdown",
   "metadata": {},
   "source": [
    "Se elimina la columna *id*, dado que no aporta al entrenamiento del modelo."
   ]
  },
  {
   "cell_type": "code",
   "execution_count": 6,
   "metadata": {},
   "outputs": [],
   "source": [
    "datos.drop('id', axis = 1, inplace = True)"
   ]
  },
  {
   "cell_type": "markdown",
   "metadata": {},
   "source": [
    "Se renombran las columnas para facilitar la comprensión, \n",
    "\n",
    "las variables corresponde a:\n",
    "-\tEdad = age\n",
    "-\tPresion = blood_pressure\n",
    "-\tGravedad especifica = specific_gravity\n",
    "-\tAlnbumina = albúmina\n",
    "-\tAzucar = sugar\n",
    "-\tGlobulos Rojos = red_blood_cells\n",
    "-\tPus Celular = pus_cell\n",
    "-\tGrupos de células de pus = pus_cell_clumps\n",
    "-\tBacteria = bacteria\n",
    "-\tGlucosa en sagre aleatoria = blood_glucose_random\n",
    "-\tUrea en Sangre = blood_urea\n",
    "-\tCreatinina Serica = serum_creatinine\n",
    "-\tSodio = sodium\n",
    "-\tPotasio = potassium\n",
    "-\tHemoglobina = haemoglobin\n",
    "-\tVolumen de células empaquetadas = packed_cell_volume\n",
    "-\tConteo de células blancas = white_blood_cell_count\n",
    "-\tRecuento de glóbulos rojos = red_blood_cell_count\n",
    "-\tHipertensión = hypertensión\n",
    "-\tDiabetes mellitus = diabetes_mellitus\n",
    "-\tEnfermedad de la arteria coronaria = coronary_artery_disease\n",
    "-\tApetito = appetite\n",
    "-\tEdema de los pies = peda_edema\n",
    "-\tAnemia = aanemia\n",
    "-\tClase = class"
   ]
  },
  {
   "cell_type": "code",
   "execution_count": 7,
   "metadata": {},
   "outputs": [],
   "source": [
    "datos.columns = ['age', 'blood_pressure', 'specific_gravity', 'albumin', 'sugar', 'red_blood_cells', 'pus_cell',\n",
    "              'pus_cell_clumps', 'bacteria', 'blood_glucose_random', 'blood_urea', 'serum_creatinine', 'sodium',\n",
    "              'potassium', 'haemoglobin', 'packed_cell_volume', 'white_blood_cell_count', 'red_blood_cell_count',\n",
    "              'hypertension', 'diabetes_mellitus', 'coronary_artery_disease', 'appetite', 'peda_edema',\n",
    "              'aanemia', 'class']"
   ]
  },
  {
   "cell_type": "markdown",
   "metadata": {},
   "source": [
    "Se convierten columnas seleccionadas a tipo numérico"
   ]
  },
  {
   "cell_type": "code",
   "execution_count": 8,
   "metadata": {},
   "outputs": [],
   "source": [
    "datos['packed_cell_volume'] = pd.to_numeric(datos['packed_cell_volume'], errors='coerce')\n",
    "datos['white_blood_cell_count'] = pd.to_numeric(datos['white_blood_cell_count'], errors='coerce')\n",
    "datos['red_blood_cell_count'] = pd.to_numeric(datos['red_blood_cell_count'], errors='coerce')"
   ]
  },
  {
   "cell_type": "markdown",
   "metadata": {},
   "source": [
    "Se extraen columnas de categoría y columnas numéricas"
   ]
  },
  {
   "cell_type": "code",
   "execution_count": 9,
   "metadata": {},
   "outputs": [],
   "source": [
    "columnas_categoria = [col for col in datos.columns if datos[col].dtype == 'object']\n",
    "columnas_numericas = [col for col in datos.columns if datos[col].dtype != 'object']"
   ]
  },
  {
   "cell_type": "markdown",
   "metadata": {},
   "source": [
    "Se reemplazan valores incorrectos"
   ]
  },
  {
   "cell_type": "code",
   "execution_count": 10,
   "metadata": {},
   "outputs": [],
   "source": [
    "datos['diabetes_mellitus'].replace(to_replace = {'\\tno':'no','\\tyes':'yes',' yes':'yes'},inplace=True)\n",
    "datos['coronary_artery_disease'] = datos['coronary_artery_disease'].replace(to_replace = '\\tno', value='no')\n",
    "datos['class'] = datos['class'].replace(to_replace = {'ckd\\t': 'ckd', 'notckd': 'not ckd'})"
   ]
  },
  {
   "cell_type": "markdown",
   "metadata": {},
   "source": [
    "Se reemplaza **ckd** con 1 y **not ckd** con 0, estos serán utilizados como clasificación.\n",
    "\n",
    "ckd representa en 1 que tiene la enfermedad renal cronico y 0 no la tiene."
   ]
  },
  {
   "cell_type": "code",
   "execution_count": 11,
   "metadata": {},
   "outputs": [],
   "source": [
    "datos['class'] = datos['class'].map({'ckd': 1, 'not ckd': 0})"
   ]
  },
  {
   "cell_type": "markdown",
   "metadata": {},
   "source": [
    "Se convierte columna **class** en numérica."
   ]
  },
  {
   "cell_type": "code",
   "execution_count": 12,
   "metadata": {},
   "outputs": [],
   "source": [
    "datos['class'] = pd.to_numeric(datos['class'], errors='coerce')"
   ]
  },
  {
   "cell_type": "markdown",
   "metadata": {},
   "source": [
    "Se reemplazan valores nulos para poder codificar características.\n",
    "Se usan dos métodos\n",
    "1. muestreo aleatorio para cuando los valores nulos tienen una alta frecuencia"
   ]
  },
  {
   "cell_type": "code",
   "execution_count": 13,
   "metadata": {},
   "outputs": [],
   "source": [
    "def reemplazar_nulo_con_aleatorio(caracteristica):\n",
    "    valor_aleatorio = datos[caracteristica].dropna().sample(datos[caracteristica].isna().sum())\n",
    "    valor_aleatorio.index = datos[datos[caracteristica].isnull()].index\n",
    "    datos.loc[datos[caracteristica].isnull(), caracteristica] = valor_aleatorio"
   ]
  },
  {
   "cell_type": "markdown",
   "metadata": {},
   "source": [
    "2. Muestreo media/moda para valores nulos con poca frecuencia"
   ]
  },
  {
   "cell_type": "code",
   "execution_count": 14,
   "metadata": {},
   "outputs": [],
   "source": [
    "def reemplazar_nulo_con_moda(caracteristica):\n",
    "    moda = datos[caracteristica].mode()[0]\n",
    "    datos[caracteristica] = datos[caracteristica].fillna(moda)"
   ]
  },
  {
   "cell_type": "markdown",
   "metadata": {},
   "source": [
    "Se reemplazan valores nulos en las columnas numéricas con valores aleatorios"
   ]
  },
  {
   "cell_type": "code",
   "execution_count": 15,
   "metadata": {},
   "outputs": [],
   "source": [
    "for columna in columnas_numericas:\n",
    "    reemplazar_nulo_con_aleatorio(columna)"
   ]
  },
  {
   "cell_type": "markdown",
   "metadata": {},
   "source": [
    "Se reemplazan valores nulos en las columnas **red_blood_cells** y **pus_cell** con valores aleatorios"
   ]
  },
  {
   "cell_type": "code",
   "execution_count": 16,
   "metadata": {},
   "outputs": [],
   "source": [
    "reemplazar_nulo_con_aleatorio('red_blood_cells')\n",
    "reemplazar_nulo_con_aleatorio('pus_cell')"
   ]
  },
  {
   "cell_type": "markdown",
   "metadata": {},
   "source": [
    "Se reemplazan nulos por moda en las demás columnas de categoría"
   ]
  },
  {
   "cell_type": "code",
   "execution_count": 17,
   "metadata": {},
   "outputs": [],
   "source": [
    "for columna in columnas_categoria:\n",
    "    reemplazar_nulo_con_moda(columna)"
   ]
  },
  {
   "cell_type": "markdown",
   "metadata": {},
   "source": [
    "Codificar características"
   ]
  },
  {
   "cell_type": "code",
   "execution_count": 18,
   "metadata": {},
   "outputs": [
    {
     "data": {
      "text/html": [
       "<div>\n",
       "<style scoped>\n",
       "    .dataframe tbody tr th:only-of-type {\n",
       "        vertical-align: middle;\n",
       "    }\n",
       "\n",
       "    .dataframe tbody tr th {\n",
       "        vertical-align: top;\n",
       "    }\n",
       "\n",
       "    .dataframe thead th {\n",
       "        text-align: right;\n",
       "    }\n",
       "</style>\n",
       "<table border=\"1\" class=\"dataframe\">\n",
       "  <thead>\n",
       "    <tr style=\"text-align: right;\">\n",
       "      <th></th>\n",
       "      <th>age</th>\n",
       "      <th>blood_pressure</th>\n",
       "      <th>specific_gravity</th>\n",
       "      <th>albumin</th>\n",
       "      <th>sugar</th>\n",
       "      <th>red_blood_cells</th>\n",
       "      <th>pus_cell</th>\n",
       "      <th>pus_cell_clumps</th>\n",
       "      <th>bacteria</th>\n",
       "      <th>blood_glucose_random</th>\n",
       "      <th>...</th>\n",
       "      <th>packed_cell_volume</th>\n",
       "      <th>white_blood_cell_count</th>\n",
       "      <th>red_blood_cell_count</th>\n",
       "      <th>hypertension</th>\n",
       "      <th>diabetes_mellitus</th>\n",
       "      <th>coronary_artery_disease</th>\n",
       "      <th>appetite</th>\n",
       "      <th>peda_edema</th>\n",
       "      <th>aanemia</th>\n",
       "      <th>class</th>\n",
       "    </tr>\n",
       "  </thead>\n",
       "  <tbody>\n",
       "    <tr>\n",
       "      <th>43</th>\n",
       "      <td>35.0</td>\n",
       "      <td>80.0</td>\n",
       "      <td>1.010</td>\n",
       "      <td>1.0</td>\n",
       "      <td>0.0</td>\n",
       "      <td>0</td>\n",
       "      <td>0</td>\n",
       "      <td>0</td>\n",
       "      <td>0</td>\n",
       "      <td>79.0</td>\n",
       "      <td>...</td>\n",
       "      <td>24.0</td>\n",
       "      <td>7900.0</td>\n",
       "      <td>3.1</td>\n",
       "      <td>0</td>\n",
       "      <td>1</td>\n",
       "      <td>0</td>\n",
       "      <td>0</td>\n",
       "      <td>0</td>\n",
       "      <td>0</td>\n",
       "      <td>1</td>\n",
       "    </tr>\n",
       "    <tr>\n",
       "      <th>220</th>\n",
       "      <td>36.0</td>\n",
       "      <td>80.0</td>\n",
       "      <td>1.010</td>\n",
       "      <td>0.0</td>\n",
       "      <td>0.0</td>\n",
       "      <td>1</td>\n",
       "      <td>1</td>\n",
       "      <td>0</td>\n",
       "      <td>0</td>\n",
       "      <td>103.0</td>\n",
       "      <td>...</td>\n",
       "      <td>36.0</td>\n",
       "      <td>8800.0</td>\n",
       "      <td>5.3</td>\n",
       "      <td>0</td>\n",
       "      <td>0</td>\n",
       "      <td>0</td>\n",
       "      <td>0</td>\n",
       "      <td>0</td>\n",
       "      <td>0</td>\n",
       "      <td>1</td>\n",
       "    </tr>\n",
       "    <tr>\n",
       "      <th>115</th>\n",
       "      <td>47.0</td>\n",
       "      <td>80.0</td>\n",
       "      <td>1.010</td>\n",
       "      <td>0.0</td>\n",
       "      <td>0.0</td>\n",
       "      <td>1</td>\n",
       "      <td>0</td>\n",
       "      <td>0</td>\n",
       "      <td>0</td>\n",
       "      <td>102.0</td>\n",
       "      <td>...</td>\n",
       "      <td>44.0</td>\n",
       "      <td>5600.0</td>\n",
       "      <td>4.3</td>\n",
       "      <td>0</td>\n",
       "      <td>0</td>\n",
       "      <td>0</td>\n",
       "      <td>0</td>\n",
       "      <td>0</td>\n",
       "      <td>1</td>\n",
       "      <td>1</td>\n",
       "    </tr>\n",
       "    <tr>\n",
       "      <th>98</th>\n",
       "      <td>50.0</td>\n",
       "      <td>140.0</td>\n",
       "      <td>1.015</td>\n",
       "      <td>2.0</td>\n",
       "      <td>5.0</td>\n",
       "      <td>1</td>\n",
       "      <td>1</td>\n",
       "      <td>0</td>\n",
       "      <td>0</td>\n",
       "      <td>101.0</td>\n",
       "      <td>...</td>\n",
       "      <td>18.0</td>\n",
       "      <td>5800.0</td>\n",
       "      <td>2.3</td>\n",
       "      <td>1</td>\n",
       "      <td>1</td>\n",
       "      <td>0</td>\n",
       "      <td>1</td>\n",
       "      <td>0</td>\n",
       "      <td>1</td>\n",
       "      <td>1</td>\n",
       "    </tr>\n",
       "    <tr>\n",
       "      <th>341</th>\n",
       "      <td>63.0</td>\n",
       "      <td>70.0</td>\n",
       "      <td>1.025</td>\n",
       "      <td>0.0</td>\n",
       "      <td>0.0</td>\n",
       "      <td>1</td>\n",
       "      <td>1</td>\n",
       "      <td>0</td>\n",
       "      <td>0</td>\n",
       "      <td>130.0</td>\n",
       "      <td>...</td>\n",
       "      <td>41.0</td>\n",
       "      <td>7300.0</td>\n",
       "      <td>4.7</td>\n",
       "      <td>0</td>\n",
       "      <td>0</td>\n",
       "      <td>0</td>\n",
       "      <td>0</td>\n",
       "      <td>0</td>\n",
       "      <td>0</td>\n",
       "      <td>0</td>\n",
       "    </tr>\n",
       "  </tbody>\n",
       "</table>\n",
       "<p>5 rows × 25 columns</p>\n",
       "</div>"
      ],
      "text/plain": [
       "      age  blood_pressure  specific_gravity  albumin  sugar  red_blood_cells  \\\n",
       "43   35.0            80.0             1.010      1.0    0.0                0   \n",
       "220  36.0            80.0             1.010      0.0    0.0                1   \n",
       "115  47.0            80.0             1.010      0.0    0.0                1   \n",
       "98   50.0           140.0             1.015      2.0    5.0                1   \n",
       "341  63.0            70.0             1.025      0.0    0.0                1   \n",
       "\n",
       "     pus_cell  pus_cell_clumps  bacteria  blood_glucose_random  ...  \\\n",
       "43          0                0         0                  79.0  ...   \n",
       "220         1                0         0                 103.0  ...   \n",
       "115         0                0         0                 102.0  ...   \n",
       "98          1                0         0                 101.0  ...   \n",
       "341         1                0         0                 130.0  ...   \n",
       "\n",
       "     packed_cell_volume  white_blood_cell_count  red_blood_cell_count  \\\n",
       "43                 24.0                  7900.0                   3.1   \n",
       "220                36.0                  8800.0                   5.3   \n",
       "115                44.0                  5600.0                   4.3   \n",
       "98                 18.0                  5800.0                   2.3   \n",
       "341                41.0                  7300.0                   4.7   \n",
       "\n",
       "     hypertension  diabetes_mellitus  coronary_artery_disease  appetite  \\\n",
       "43              0                  1                        0         0   \n",
       "220             0                  0                        0         0   \n",
       "115             0                  0                        0         0   \n",
       "98              1                  1                        0         1   \n",
       "341             0                  0                        0         0   \n",
       "\n",
       "     peda_edema  aanemia  class  \n",
       "43            0        0      1  \n",
       "220           0        0      1  \n",
       "115           0        1      1  \n",
       "98            0        1      1  \n",
       "341           0        0      0  \n",
       "\n",
       "[5 rows x 25 columns]"
      ]
     },
     "execution_count": 18,
     "metadata": {},
     "output_type": "execute_result"
    }
   ],
   "source": [
    "codificadorCaracteristica = LabelEncoder()\n",
    "\n",
    "for columna in columnas_categoria:\n",
    "    datos[columna] = codificadorCaracteristica.fit_transform(datos[columna]) #fit_transform () es ajustar los datos primero y luego estandarizarlos.\n",
    "\n",
    "\n",
    "datos.sample(5)"
   ]
  },
  {
   "cell_type": "markdown",
   "metadata": {},
   "source": [
    "### Dividir datos"
   ]
  },
  {
   "cell_type": "markdown",
   "metadata": {},
   "source": [
    "Se elimina la clasificación de los datos para definir las características"
   ]
  },
  {
   "cell_type": "code",
   "execution_count": 19,
   "metadata": {},
   "outputs": [],
   "source": [
    "caracteristicas = datos.drop(\"class\", axis = 1 )"
   ]
  },
  {
   "cell_type": "markdown",
   "metadata": {},
   "source": [
    "Se extrae la clasificación de los datos"
   ]
  },
  {
   "cell_type": "code",
   "execution_count": 20,
   "metadata": {},
   "outputs": [],
   "source": [
    "clasificacion = datos['class']"
   ]
  },
  {
   "cell_type": "markdown",
   "metadata": {},
   "source": [
    "Se dividen las caracteristicas y clasificación para el entrenamiento y la evaluación del modelo"
   ]
  },
  {
   "cell_type": "code",
   "execution_count": 21,
   "metadata": {},
   "outputs": [],
   "source": [
    "caracteristicas_entrenamiento, caracteristicas_evaluacion, clasificacion_entrenamiento, clasificacion_evaluacion = train_test_split(caracteristicas, clasificacion, test_size= 0.2, random_state = 42)"
   ]
  },
  {
   "cell_type": "markdown",
   "metadata": {},
   "source": [
    "### Entrenar modelo"
   ]
  },
  {
   "cell_type": "markdown",
   "metadata": {},
   "source": [
    "Se entrena el modelo utilizando el clasificador de bosques aleatorios "
   ]
  },
  {
   "cell_type": "code",
   "execution_count": 22,
   "metadata": {},
   "outputs": [
    {
     "data": {
      "text/plain": [
       "RandomForestClassifier()"
      ]
     },
     "execution_count": 22,
     "metadata": {},
     "output_type": "execute_result"
    }
   ],
   "source": [
    "modelo = RandomForestClassifier()\n",
    "modelo.fit(caracteristicas_entrenamiento, clasificacion_entrenamiento)"
   ]
  },
  {
   "cell_type": "markdown",
   "metadata": {},
   "source": [
    "### Evaluar modelo"
   ]
  },
  {
   "cell_type": "markdown",
   "metadata": {},
   "source": [
    "Se realiza predicción utilizando el modelo sobre las características reservadas para la evaluación"
   ]
  },
  {
   "cell_type": "code",
   "execution_count": 23,
   "metadata": {},
   "outputs": [],
   "source": [
    "clasificacion_prediccion = modelo.predict(caracteristicas_evaluacion)"
   ]
  },
  {
   "cell_type": "markdown",
   "metadata": {},
   "source": [
    "Se calcula el error medio absoluto"
   ]
  },
  {
   "cell_type": "code",
   "execution_count": 24,
   "metadata": {},
   "outputs": [
    {
     "data": {
      "text/plain": [
       "0.025"
      ]
     },
     "execution_count": 24,
     "metadata": {},
     "output_type": "execute_result"
    }
   ],
   "source": [
    "mean_absolute_error(clasificacion_evaluacion, clasificacion_prediccion)"
   ]
  },
  {
   "cell_type": "markdown",
   "metadata": {},
   "source": [
    "Se genera la matriz de Confusión"
   ]
  },
  {
   "cell_type": "code",
   "execution_count": 25,
   "metadata": {},
   "outputs": [
    {
     "data": {
      "image/png": "[encoded data removed]",
      "text/plain": [
       "<Figure size 432x288 with 2 Axes>"
      ]
     },
     "metadata": {
      "needs_background": "light"
     },
     "output_type": "display_data"
    }
   ],
   "source": [
    "#  Matriz de confusión\n",
    "matrizDeConfusion = confusion_matrix(clasificacion_evaluacion, clasificacion_prediccion)\n",
    "displayConfusionMatrix = ConfusionMatrixDisplay(confusion_matrix = matrizDeConfusion, display_labels = modelo.classes_)\n",
    "displayConfusionMatrix.plot()\n",
    "plt.show()"
   ]
  },
  {
   "cell_type": "markdown",
   "metadata": {},
   "source": [
    "### Predecir"
   ]
  },
  {
   "cell_type": "markdown",
   "metadata": {},
   "source": [
    "Se selecciona un registro para predecir la probabilidad de padecer enfermedad renal crónica"
   ]
  },
  {
   "cell_type": "code",
   "execution_count": 26,
   "metadata": {},
   "outputs": [
    {
     "data": {
      "text/html": [
       "<div>\n",
       "<style scoped>\n",
       "    .dataframe tbody tr th:only-of-type {\n",
       "        vertical-align: middle;\n",
       "    }\n",
       "\n",
       "    .dataframe tbody tr th {\n",
       "        vertical-align: top;\n",
       "    }\n",
       "\n",
       "    .dataframe thead th {\n",
       "        text-align: right;\n",
       "    }\n",
       "</style>\n",
       "<table border=\"1\" class=\"dataframe\">\n",
       "  <thead>\n",
       "    <tr style=\"text-align: right;\">\n",
       "      <th></th>\n",
       "      <th>age</th>\n",
       "      <th>blood_pressure</th>\n",
       "      <th>specific_gravity</th>\n",
       "      <th>albumin</th>\n",
       "      <th>sugar</th>\n",
       "      <th>red_blood_cells</th>\n",
       "      <th>pus_cell</th>\n",
       "      <th>pus_cell_clumps</th>\n",
       "      <th>bacteria</th>\n",
       "      <th>blood_glucose_random</th>\n",
       "      <th>...</th>\n",
       "      <th>haemoglobin</th>\n",
       "      <th>packed_cell_volume</th>\n",
       "      <th>white_blood_cell_count</th>\n",
       "      <th>red_blood_cell_count</th>\n",
       "      <th>hypertension</th>\n",
       "      <th>diabetes_mellitus</th>\n",
       "      <th>coronary_artery_disease</th>\n",
       "      <th>appetite</th>\n",
       "      <th>peda_edema</th>\n",
       "      <th>aanemia</th>\n",
       "    </tr>\n",
       "  </thead>\n",
       "  <tbody>\n",
       "    <tr>\n",
       "      <th>64</th>\n",
       "      <td>55.0</td>\n",
       "      <td>80.0</td>\n",
       "      <td>1.01</td>\n",
       "      <td>0.0</td>\n",
       "      <td>0.0</td>\n",
       "      <td>1</td>\n",
       "      <td>1</td>\n",
       "      <td>0</td>\n",
       "      <td>0</td>\n",
       "      <td>146.0</td>\n",
       "      <td>...</td>\n",
       "      <td>9.8</td>\n",
       "      <td>41.0</td>\n",
       "      <td>11400.0</td>\n",
       "      <td>3.0</td>\n",
       "      <td>0</td>\n",
       "      <td>0</td>\n",
       "      <td>0</td>\n",
       "      <td>0</td>\n",
       "      <td>0</td>\n",
       "      <td>0</td>\n",
       "    </tr>\n",
       "  </tbody>\n",
       "</table>\n",
       "<p>1 rows × 24 columns</p>\n",
       "</div>"
      ],
      "text/plain": [
       "     age  blood_pressure  specific_gravity  albumin  sugar  red_blood_cells  \\\n",
       "64  55.0            80.0              1.01      0.0    0.0                1   \n",
       "\n",
       "    pus_cell  pus_cell_clumps  bacteria  blood_glucose_random  ...  \\\n",
       "64         1                0         0                 146.0  ...   \n",
       "\n",
       "    haemoglobin  packed_cell_volume  white_blood_cell_count  \\\n",
       "64          9.8                41.0                 11400.0   \n",
       "\n",
       "    red_blood_cell_count  hypertension  diabetes_mellitus  \\\n",
       "64                   3.0             0                  0   \n",
       "\n",
       "    coronary_artery_disease  appetite  peda_edema  aanemia  \n",
       "64                        0         0           0        0  \n",
       "\n",
       "[1 rows x 24 columns]"
      ]
     },
     "execution_count": 26,
     "metadata": {},
     "output_type": "execute_result"
    }
   ],
   "source": [
    "ejemplo = caracteristicas.sample()\n",
    "ejemplo"
   ]
  },
  {
   "cell_type": "markdown",
   "metadata": {},
   "source": [
    "Se predice la probabilidad de padecer enfermedad renal crónica, para ello tomamos del resultado la primera posición por tratarse de una sola predicción o la predicción para un solo elemento. Obtenemos la probabilidad de la clasificación 1, teniendo en cuenta que las clasificación **ckd** es 1 y **not ckd** es 0."
   ]
  },
  {
   "cell_type": "code",
   "execution_count": 27,
   "metadata": {},
   "outputs": [
    {
     "data": {
      "text/plain": [
       "'100%'"
      ]
     },
     "execution_count": 27,
     "metadata": {},
     "output_type": "execute_result"
    }
   ],
   "source": [
    "probabilidad = modelo.predict_proba(ejemplo)\n",
    "\"{0:.0%}\".format(probabilidad[0][1])"
   ]
  },
  {
   "cell_type": "markdown",
   "metadata": {},
   "source": [
    "### Solicitar Datos"
   ]
  },
  {
   "cell_type": "markdown",
   "metadata": {},
   "source": [
    "Se solicitan la informacion del paciente para determinar la probabilidad de sufrir o no una enfermedad renal"
   ]
  },
  {
   "cell_type": "code",
   "execution_count": 28,
   "metadata": {},
   "outputs": [
    {
     "name": "stdout",
     "output_type": "stream",
     "text": [
      "Escriba su nombre completo: paola\n",
      "Se ha realizado examenes de sangre recientes?: si\n",
      "Escriba el numero de registro de los examenes medicos: 64\n"
     ]
    },
    {
     "data": {
      "text/html": [
       "<table border=\"1\" class=\"dataframe\">\n",
       "  <thead>\n",
       "    <tr style=\"text-align: right;\">\n",
       "      <th></th>\n",
       "      <th>age</th>\n",
       "      <th>blood_pressure</th>\n",
       "      <th>specific_gravity</th>\n",
       "      <th>albumin</th>\n",
       "      <th>sugar</th>\n",
       "      <th>red_blood_cells</th>\n",
       "      <th>pus_cell</th>\n",
       "      <th>pus_cell_clumps</th>\n",
       "      <th>bacteria</th>\n",
       "      <th>blood_glucose_random</th>\n",
       "      <th>blood_urea</th>\n",
       "      <th>serum_creatinine</th>\n",
       "      <th>sodium</th>\n",
       "      <th>potassium</th>\n",
       "      <th>haemoglobin</th>\n",
       "      <th>packed_cell_volume</th>\n",
       "      <th>white_blood_cell_count</th>\n",
       "      <th>red_blood_cell_count</th>\n",
       "      <th>hypertension</th>\n",
       "      <th>diabetes_mellitus</th>\n",
       "      <th>coronary_artery_disease</th>\n",
       "      <th>appetite</th>\n",
       "      <th>peda_edema</th>\n",
       "      <th>aanemia</th>\n",
       "    </tr>\n",
       "  </thead>\n",
       "  <tbody>\n",
       "    <tr>\n",
       "      <th>63</th>\n",
       "      <td>46.0</td>\n",
       "      <td>70.0</td>\n",
       "      <td>1.015</td>\n",
       "      <td>1.0</td>\n",
       "      <td>0.0</td>\n",
       "      <td>0</td>\n",
       "      <td>1</td>\n",
       "      <td>0</td>\n",
       "      <td>0</td>\n",
       "      <td>150.0</td>\n",
       "      <td>111.0</td>\n",
       "      <td>6.1</td>\n",
       "      <td>131.0</td>\n",
       "      <td>3.7</td>\n",
       "      <td>7.5</td>\n",
       "      <td>27.0</td>\n",
       "      <td>6200.0</td>\n",
       "      <td>5.3</td>\n",
       "      <td>0</td>\n",
       "      <td>0</td>\n",
       "      <td>0</td>\n",
       "      <td>0</td>\n",
       "      <td>0</td>\n",
       "      <td>1</td>\n",
       "    </tr>\n",
       "  </tbody>\n",
       "</table>"
      ],
      "text/plain": [
       "<IPython.core.display.HTML object>"
      ]
     },
     "metadata": {},
     "output_type": "display_data"
    },
    {
     "name": "stdout",
     "output_type": "stream",
     "text": [
      "Usted podría padecer enfermedad renal con una probabilidad del 100%\n"
     ]
    }
   ],
   "source": [
    "name = input('Escriba su nombre completo: ')\n",
    "test = input('Se ha realizado examenes de sangre recientes?: ')\n",
    "\n",
    "if test == 'no':\n",
    "    print('Por favor realizarse examenes de sangre e ingresarlos a la pagina.')\n",
    "else:\n",
    "    registro = int(input('Escriba el numero de registro de los examenes medicos: '))\n",
    "    caracteristica = caracteristicas.loc[[registro-1]]\n",
    "    display(HTML(caracteristica.to_html()))\n",
    "    prediccionProbabilidad = modelo.predict_proba(caracteristica)[0][1]\n",
    "    if prediccionProbabilidad > 0.5 :\n",
    "        print(\"Usted podría padecer enfermedad renal con una probabilidad del {0:.0%}\".format(prediccionProbabilidad))\n",
    "    else:\n",
    "        print(\"usted no tiene una enfermedad renal\")"
   ]
  },
  {
   "cell_type": "markdown",
   "metadata": {},
   "source": [
    "## Autores\n",
    "- Heidi Liliana Alvarado Sarmiento Código: 1.094.930.398\n",
    "- Alexandra Paola Rivera Zuluaga Código: 1.053.791.795\n",
    "- Jonatan Mayorga Villanueva Código: 86.085.356\n",
    "- Wilmer Fidel Restrepo Orrego Codigo: 1.088.300.954"
   ]
  },
  {
   "cell_type": "markdown",
   "metadata": {},
   "source": [
    "## Referencias\n",
    "\n",
    "1. https://archive.ics.uci.edu/ml/datasets/Chronic_Kidney_Disease\n",
    "2. https://www.kaggle.com/code/iftekharifat/chronic-kidney-disease-prediction\n",
    "3. https://scikit-learn.org/stable/modules/generated/sklearn.ensemble.RandomForestClassifier.html\n",
    "4. https://es.wikipedia.org/wiki/Error_absoluto_medio\n",
    "5. https://es.wikipedia.org/wiki/Matriz_de_confusi%C3%B3n"
   ]
  }
 ],
 "metadata": {
  "kernelspec": {
   "display_name": "Python 3 (ipykernel)",
   "language": "python",
   "name": "python3"
  },
  "language_info": {
   "codemirror_mode": {
    "name": "ipython",
    "version": 3
   },
   "file_extension": ".py",
   "mimetype": "text/x-python",
   "name": "python",
   "nbconvert_exporter": "python",
   "pygments_lexer": "ipython3",
   "version": "3.9.13"
  }
 },
 "nbformat": 4,
 "nbformat_minor": 4
}
